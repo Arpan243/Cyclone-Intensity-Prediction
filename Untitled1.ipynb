{
 "cells": [
  {
   "cell_type": "code",
   "execution_count": 24,
   "id": "228a44e6",
   "metadata": {},
   "outputs": [
    {
     "name": "stdout",
     "output_type": "stream",
     "text": [
      "2.12.0\n"
     ]
    }
   ],
   "source": [
    "import numpy as np\n",
    "import pandas as pd\n",
    "import h5py\n",
    "import matplotlib.pyplot as plt\n",
    "import tensorflow as tf\n",
    "import tensorflow_addons as tfa\n",
    "from tensorflow import keras\n",
    "from sklearn.model_selection import train_test_split, KFold\n",
    "from tensorflow.keras.metrics import MeanSquaredError, MeanAbsoluteError, MeanAbsolutePercentageError, MeanSquaredLogarithmicError, CosineSimilarity\n",
    "print(tf.__version__)"
   ]
  },
  {
   "cell_type": "code",
   "execution_count": 2,
   "id": "aea8da6e",
   "metadata": {},
   "outputs": [],
   "source": [
    "data_path = \"./TCIR-ALL_2017.h5/TCIR-ALL_2017.h5\"\n",
    "data_info = pd.read_hdf(data_path, key=\"info\", mode='r')\n",
    "with h5py.File(data_path, 'r') as hf:\n",
    "    data_matrix = hf['matrix'][:]"
   ]
  },
  {
   "cell_type": "code",
   "execution_count": 6,
   "id": "20e73dc6",
   "metadata": {},
   "outputs": [
    {
     "data": {
      "text/plain": [
       "(4580, 201, 201, 4)"
      ]
     },
     "execution_count": 6,
     "metadata": {},
     "output_type": "execute_result"
    }
   ],
   "source": [
    "data_matrix.shape"
   ]
  },
  {
   "cell_type": "code",
   "execution_count": 7,
   "id": "b6f3bb94",
   "metadata": {},
   "outputs": [],
   "source": [
    "import numpy as np\n",
    "import tensorflow as tf\n",
    "from tensorflow.keras.models import Sequential\n",
    "from tensorflow.keras.layers import Conv2D, MaxPooling2D, Flatten, Dense, Dropout\n",
    "from tensorflow.keras.optimizers import SGD\n"
   ]
  },
  {
   "cell_type": "code",
   "execution_count": 9,
   "id": "47477567",
   "metadata": {},
   "outputs": [],
   "source": [
    "num_classes = 100"
   ]
  },
  {
   "cell_type": "code",
   "execution_count": 11,
   "id": "408103a0",
   "metadata": {},
   "outputs": [],
   "source": [
    "data_info = data_info.assign(time=pd.to_datetime(data_info.time, format=r'%Y%m%d%H'))"
   ]
  },
  {
   "cell_type": "code",
   "execution_count": 12,
   "id": "9dcf8dbf",
   "metadata": {},
   "outputs": [],
   "source": [
    "X_irpmw = data_matrix[:,:,:,0::3]\n",
    "y = data_info['Vmax'].values[:,np.newaxis]"
   ]
  },
  {
   "cell_type": "code",
   "execution_count": 13,
   "id": "7a73dd95",
   "metadata": {},
   "outputs": [],
   "source": [
    "X_irpmw[np.isnan(X_irpmw)] = 0\n",
    "X_irpmw[X_irpmw > 1000] = 0"
   ]
  },
  {
   "cell_type": "code",
   "execution_count": 14,
   "id": "84d738f7",
   "metadata": {},
   "outputs": [],
   "source": [
    "class Preprocessing(keras.layers.Layer):\n",
    "    def __init__(self):\n",
    "        super(Preprocessing, self).__init__()\n",
    "    def call(self, inputs, training=None):\n",
    "        if training:\n",
    "            inputs = tf.image.rot90(inputs, k=np.random.randint(4))\n",
    "        return tf.image.central_crop(inputs, 0.5)"
   ]
  },
  {
   "cell_type": "code",
   "execution_count": 15,
   "id": "614ea3d1",
   "metadata": {},
   "outputs": [],
   "source": [
    "metrics = [\n",
    "    tf.keras.metrics.CategoricalAccuracy(),\n",
    "    tf.keras.metrics.FalseNegatives(),\n",
    "    tf.keras.metrics.FalsePositives(),\n",
    "    tf.keras.metrics.Precision(),\n",
    "    tf.keras.metrics.Recall(),\n",
    "    tfa.metrics.F1Score(num_classes=1000)\n",
    "]"
   ]
  },
  {
   "cell_type": "code",
   "execution_count": 38,
   "id": "12444cf9",
   "metadata": {},
   "outputs": [],
   "source": [
    "def train_val_model(train_x, train_y, val_x, val_y, n_epochs, batch_size):\n",
    "    reg_param = 1e-5\n",
    "    \n",
    "    train_X = tf.convert_to_tensor(train_x)\n",
    "    train_Y = tf.convert_to_tensor(train_y)\n",
    "    \n",
    "    val_X = tf.convert_to_tensor(val_x)\n",
    "    val_Y = tf.convert_to_tensor(val_y)\n",
    "    \n",
    "    weights_initializer = keras.initializers.GlorotUniform()\n",
    "    \n",
    "    model = keras.models.Sequential([\n",
    "        Preprocessing(),\n",
    "        keras.layers.Conv2D(filters=96, kernel_size=(11,11), strides=4,padding='valid', activation='relu', input_shape=(224,224,3)),\n",
    "        keras.layers.MaxPool2D(pool_size=(3, 3),strides=2),\n",
    "        keras.layers.Conv2D(filters=256, kernel_size=(5,5), padding='same', activation='relu'),\n",
    "        keras.layers.MaxPool2D(pool_size=(3, 3),strides=2),\n",
    "        keras.layers.Conv2D(filters=384, kernel_size=(3,3), padding='same', activation='relu'),\n",
    "        keras.layers.Conv2D(filters=384, kernel_size=(3,3), padding='same', activation='relu'),\n",
    "        keras.layers.Conv2D(filters=256, kernel_size=(3,3), padding='same', activation='relu'),\n",
    "        keras.layers.MaxPool2D(pool_size=(3, 3),strides=2),\n",
    "        keras.layers.Flatten(),\n",
    "        keras.layers.Dense(4096, activation='relu'),\n",
    "        keras.layers.Dropout(0.4),\n",
    "        keras.layers.Dense(4096, activation='relu'),\n",
    "        keras.layers.Dropout(0.4),\n",
    "        keras.layers.Dense(1, activation='relu'),\n",
    "    ])\n",
    "    \n",
    "    # Compiling the model\n",
    "    model.compile(optimizer=keras.optimizers.Adam(lr=5e-4, beta_1=0.99, beta_2=0.9999),\n",
    "                  loss='mean_squared_error', \n",
    "                  metrics=['mean_squared_error'] )\n",
    " \n",
    "    # Training the network\n",
    "    history = model.fit(train_X, train_Y, \n",
    "         epochs=n_epochs,\n",
    "         batch_size=batch_size, \n",
    "         verbose=1\n",
    "        )\n",
    "    \n",
    "    val_score = model.evaluate(val_X, val_Y)\n",
    "    print(\"Val Score: \", val_score)\n",
    "    return history, val_score, model"
   ]
  },
  {
   "cell_type": "code",
   "execution_count": 39,
   "id": "f0940396",
   "metadata": {},
   "outputs": [
    {
     "name": "stderr",
     "output_type": "stream",
     "text": [
      "WARNING:absl:`lr` is deprecated in Keras optimizer, please use `learning_rate` or use the legacy optimizer, e.g.,tf.keras.optimizers.legacy.Adam.\n"
     ]
    },
    {
     "name": "stdout",
     "output_type": "stream",
     "text": [
      "Epoch 1/20\n",
      "15/15 [==============================] - 74s 5s/step - loss: 1710023.0000 - mean_squared_error: 1710023.0000\n",
      "Epoch 2/20\n",
      "15/15 [==============================] - 68s 5s/step - loss: 882.0345 - mean_squared_error: 882.0345\n",
      "Epoch 3/20\n",
      "15/15 [==============================] - 67s 4s/step - loss: 832.3267 - mean_squared_error: 832.3267\n",
      "Epoch 4/20\n",
      "15/15 [==============================] - 72s 5s/step - loss: 767.6467 - mean_squared_error: 767.6467\n",
      "Epoch 5/20\n",
      "15/15 [==============================] - 71s 5s/step - loss: 701.2482 - mean_squared_error: 701.2482\n",
      "Epoch 6/20\n",
      "15/15 [==============================] - 71s 5s/step - loss: 630.9124 - mean_squared_error: 630.9124\n",
      "Epoch 7/20\n",
      "15/15 [==============================] - 71s 5s/step - loss: 591.9059 - mean_squared_error: 591.9059\n",
      "Epoch 8/20\n",
      "15/15 [==============================] - 71s 5s/step - loss: 558.3535 - mean_squared_error: 558.3535\n",
      "Epoch 9/20\n",
      "15/15 [==============================] - 71s 5s/step - loss: 536.1662 - mean_squared_error: 536.1662\n",
      "Epoch 10/20\n",
      "15/15 [==============================] - 70s 5s/step - loss: 514.1921 - mean_squared_error: 514.1921\n",
      "Epoch 11/20\n",
      "15/15 [==============================] - 72s 5s/step - loss: 494.1745 - mean_squared_error: 494.1745\n",
      "Epoch 12/20\n",
      "15/15 [==============================] - 72s 5s/step - loss: 456.3237 - mean_squared_error: 456.3237\n",
      "Epoch 13/20\n",
      "15/15 [==============================] - 74s 5s/step - loss: 438.4872 - mean_squared_error: 438.4872\n",
      "Epoch 14/20\n",
      "15/15 [==============================] - 72s 5s/step - loss: 404.4619 - mean_squared_error: 404.4619\n",
      "Epoch 15/20\n",
      "15/15 [==============================] - 73s 5s/step - loss: 366.6530 - mean_squared_error: 366.6530\n",
      "Epoch 16/20\n",
      "15/15 [==============================] - 72s 5s/step - loss: 390.4559 - mean_squared_error: 390.4559\n",
      "Epoch 17/20\n",
      "15/15 [==============================] - 73s 5s/step - loss: 383.2355 - mean_squared_error: 383.2355\n",
      "Epoch 18/20\n",
      "15/15 [==============================] - 73s 5s/step - loss: 356.9621 - mean_squared_error: 356.9621\n",
      "Epoch 19/20\n",
      "15/15 [==============================] - 72s 5s/step - loss: 352.8357 - mean_squared_error: 352.8357\n",
      "Epoch 20/20\n",
      "15/15 [==============================] - 73s 5s/step - loss: 338.8849 - mean_squared_error: 338.8849\n",
      "15/15 [==============================] - 3s 136ms/step - loss: 369.9691 - mean_squared_error: 369.9691\n",
      "Val Score:  [369.9691162109375, 369.9691162109375]\n"
     ]
    }
   ],
   "source": [
    "model_history = []\n",
    "val_scores = []\n",
    "n_epochs = 20\n",
    "batch_size = 256\n",
    "\n",
    "# Splitting the data into train, validation, and test sets\n",
    "train_x, val_x, train_y, val_y = train_test_split(X_irpmw, y, random_state=101, test_size=0.1)\n",
    "train_x, test_x, train_y, test_y = train_test_split(train_x, train_y, random_state=101, test_size=0.1)\n",
    "\n",
    "# Training the model and collecting history and scores\n",
    "history, val_score, model = train_val_model(train_x=train_x, train_y=train_y, val_x=val_x, val_y=val_y, n_epochs=n_epochs, batch_size=batch_size)\n",
    "model_history.append(history)\n",
    "val_scores.append(val_score)"
   ]
  },
  {
   "cell_type": "code",
   "execution_count": null,
   "id": "0ea65314",
   "metadata": {},
   "outputs": [],
   "source": []
  }
 ],
 "metadata": {
  "kernelspec": {
   "display_name": "Python 3 (ipykernel)",
   "language": "python",
   "name": "python3"
  },
  "language_info": {
   "codemirror_mode": {
    "name": "ipython",
    "version": 3
   },
   "file_extension": ".py",
   "mimetype": "text/x-python",
   "name": "python",
   "nbconvert_exporter": "python",
   "pygments_lexer": "ipython3",
   "version": "3.11.2"
  }
 },
 "nbformat": 4,
 "nbformat_minor": 5
}
